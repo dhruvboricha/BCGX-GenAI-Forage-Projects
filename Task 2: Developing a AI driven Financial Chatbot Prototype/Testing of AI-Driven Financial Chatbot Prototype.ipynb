{
 "cells": [
  {
   "cell_type": "markdown",
   "id": "aa2dd878-1240-4fee-b47e-37200df0f89f",
   "metadata": {},
   "source": [
    "# **Testing of AI-Driven Financial Chatbot Prototype**"
   ]
  },
  {
   "cell_type": "markdown",
   "id": "3ad4febc-41b1-4656-b40c-1beea6ea5568",
   "metadata": {},
   "source": [
    "This notebook demonstrates the testing of a simple rule-based financial chatbot prototype.  \n",
    "It tests various predefined queries based on analyzed financial data for Microsoft, Tesla, and Apple."
   ]
  },
  {
   "cell_type": "markdown",
   "id": "b36d7b94-70bf-42c0-96c6-f5d3bfe62dcc",
   "metadata": {},
   "source": [
    "## **1. Importing Required Libraries**"
   ]
  },
  {
   "cell_type": "code",
   "execution_count": 1,
   "id": "defa3562-eb31-4759-aea3-ba16749b928d",
   "metadata": {},
   "outputs": [],
   "source": [
    "import pandas as pd\n",
    "import os"
   ]
  },
  {
   "cell_type": "markdown",
   "id": "f7a9d3d5-f4b0-423a-ad22-3c60faafad45",
   "metadata": {},
   "source": [
    "## **2. Loading Financial Data**\n",
    "We will load the `final_financial_data_report.csv` and `Summary_financial_report.csv` files from the Downloads folder."
   ]
  },
  {
   "cell_type": "code",
   "execution_count": 2,
   "id": "53ec8724-5317-4070-8d9f-9d5b4f8103ee",
   "metadata": {},
   "outputs": [
    {
     "name": "stdout",
     "output_type": "stream",
     "text": [
      "✅ Files loaded successfully!\n"
     ]
    }
   ],
   "source": [
    "# Define the path to Downloads folder\n",
    "downloads_path = os.path.join(os.path.expanduser('~'), 'Downloads')\n",
    "\n",
    "# Load the financial datasets\n",
    "try:\n",
    "    final_report = pd.read_csv(os.path.join(downloads_path, r'C:\\Users\\Dhruv Boricha\\Downloads\\final_financial_data_report.csv'))\n",
    "    summary_report = pd.read_csv(os.path.join(downloads_path, r'C:\\Users\\Dhruv Boricha\\Downloads\\Summary_financial_report.csv'))\n",
    "    print(\"✅ Files loaded successfully!\")\n",
    "except FileNotFoundError:\n",
    "    print(\"❌ Error: Files not found in Downloads. Please make sure the files exist.\")"
   ]
  },
  {
   "cell_type": "markdown",
   "id": "416222f7-eaf7-4319-8f47-dc1ede51069e",
   "metadata": {},
   "source": [
    "## **3. Defining the Financial Chatbot Function**\n",
    "This function simulates the chatbot response for a given company, fiscal year, and query."
   ]
  },
  {
   "cell_type": "code",
   "execution_count": 3,
   "id": "cf9aecba-cc00-40db-a694-5db3022d8589",
   "metadata": {},
   "outputs": [],
   "source": [
    "# List of supported queries\n",
    "questions = [\n",
    "    \"What is the total revenue?\",\n",
    "    \"What is the Net Income?\",\n",
    "    \"What is the sum of total assets?\",\n",
    "    \"What is the sum of total liabilities?\",\n",
    "    \"What is cash flow from operating activities?\",\n",
    "    \"What is the revenue growth (%)?\",\n",
    "    \"What is the net income growth (%)?\",\n",
    "    \"What is the assets growth (%)?\",\n",
    "    \"What is the liabilities growth (%)?\",\n",
    "    \"What is the cash flow from operations growth (%)?\",\n",
    "    \"What is the year-by-year average revenue growth rate (%)?\",\n",
    "    \"What is the year-by-year average net income growth rate (%)?\",\n",
    "    \"What is the year-by-year average assets growth rate (%)?\",\n",
    "    \"What is the year-by-year average liabilities growth rate (%)?\",\n",
    "    \"What is the year-by-year average cash flow from operations growth rate (%)?\"\n",
    "]\n",
    "\n",
    "# Define chatbot response logic\n",
    "def financial_chatbot(company_input, fiscal_year, user_query):\n",
    "    try:\n",
    "        company_input = company_input.capitalize()\n",
    "        if user_query == \"What is the total revenue?\":\n",
    "            value = final_report[(final_report['Company'] == company_input) & (final_report['Year'] == fiscal_year)]['Total Revenue'].values[0]\n",
    "            return f\"The Total Revenue for {company_input} in {fiscal_year} is ${value:,}.\"\n",
    "        elif user_query == \"What is the Net Income?\":\n",
    "            value = final_report[(final_report['Company'] == company_input) & (final_report['Year'] == fiscal_year)]['Net Income'].values[0]\n",
    "            return f\"The Net Income for {company_input} in {fiscal_year} is ${value:,}.\"\n",
    "        elif user_query == \"What is the sum of total assets?\":\n",
    "            value = final_report[(final_report['Company'] == company_input) & (final_report['Year'] == fiscal_year)]['Total Assets'].values[0]\n",
    "            return f\"The Total Assets for {company_input} in {fiscal_year} are ${value:,}.\"\n",
    "        elif user_query == \"What is the sum of total liabilities?\":\n",
    "            value = final_report[(final_report['Company'] == company_input) & (final_report['Year'] == fiscal_year)]['Total Liabilities'].values[0]\n",
    "            return f\"The Total Liabilities for {company_input} in {fiscal_year} are ${value:,}.\"\n",
    "        elif user_query == \"What is cash flow from operating activities?\":\n",
    "            value = final_report[(final_report['Company'] == company_input) & (final_report['Year'] == fiscal_year)]['Cash Flow from Operating Activities'].values[0]\n",
    "            return f\"The Cash Flow from Operating Activities for {company_input} in {fiscal_year} is ${value:,}.\"\n",
    "        elif user_query == \"What is the revenue growth (%)?\":\n",
    "            value = final_report[(final_report['Company'] == company_input) & (final_report['Year'] == fiscal_year)]['Revenue Growth (%)'].values[0]\n",
    "            return f\"The Revenue Growth for {company_input} in {fiscal_year} is {value:.2f}%.\"\n",
    "        elif user_query == \"What is the net income growth (%)?\":\n",
    "            value = final_report[(final_report['Company'] == company_input) & (final_report['Year'] == fiscal_year)]['Net Income Growth (%)'].values[0]\n",
    "            return f\"The Net Income Growth for {company_input} in {fiscal_year} is {value:.2f}%.\"\n",
    "        elif user_query == \"What is the assets growth (%)?\":\n",
    "            value = final_report[(final_report['Company'] == company_input) & (final_report['Year'] == fiscal_year)]['Assets Growth (%)'].values[0]\n",
    "            return f\"The Assets Growth for {company_input} in {fiscal_year} is {value:.2f}%.\"\n",
    "        elif user_query == \"What is the liabilities growth (%)?\":\n",
    "            value = final_report[(final_report['Company'] == company_input) & (final_report['Year'] == fiscal_year)]['Liabilities Growth (%)'].values[0]\n",
    "            return f\"The Liabilities Growth for {company_input} in {fiscal_year} is {value:.2f}%.\"\n",
    "        elif user_query == \"What is the cash flow from operations growth (%)?\":\n",
    "            value = final_report[(final_report['Company'] == company_input) & (final_report['Year'] == fiscal_year)]['Cash Flow from Operations Growth(%)'].values[0]\n",
    "            return f\"The Cash Flow from Operations Growth for {company_input} in {fiscal_year} is {value:.2f}%.\"\n",
    "        elif user_query.startswith(\"What is the year-by-year average\"):\n",
    "            field_mapping = {\n",
    "                \"revenue\": 'Revenue Growth (%)',\n",
    "                \"net income\": 'Net Income Growth (%)',\n",
    "                \"assets\": 'Assets Growth (%)',\n",
    "                \"liabilities\": 'Liabilities Growth (%)',\n",
    "                \"cash flow from operations\": 'Cash Flow from Operations Growth(%)'\n",
    "            }\n",
    "            for keyword, column in field_mapping.items():\n",
    "                if keyword in user_query:\n",
    "                    value = summary_report[summary_report['Company'] == company_input][column].values[0]\n",
    "                    return f\"The Year-by-Year Average {keyword.title()} Growth for {company_input} is {value:.2f}%.\"\n",
    "        return \"Sorry, I can only answer predefined queries.\"\n",
    "    except:\n",
    "        return \"❌ Error: Data not found or invalid input.\""
   ]
  },
  {
   "cell_type": "markdown",
   "id": "2876920f-aadf-4fdb-a8d5-25e5e144dfb6",
   "metadata": {},
   "source": [
    "## **4. Testing Different Queries**\n",
    "We will now simulate testing different predefined queries for Microsoft (2023)."
   ]
  },
  {
   "cell_type": "code",
   "execution_count": 4,
   "id": "198914cf-e614-4e61-b955-38f86204029a",
   "metadata": {},
   "outputs": [
    {
     "name": "stdout",
     "output_type": "stream",
     "text": [
      "\n",
      "Query: What is the total revenue?\n",
      "Response: The Total Revenue for Microsoft in 2023 is $211,915.\n",
      "\n",
      "Query: What is the Net Income?\n",
      "Response: The Net Income for Microsoft in 2023 is $72,361.\n",
      "\n",
      "Query: What is the revenue growth (%)?\n",
      "Response: The Revenue Growth for Microsoft in 2023 is 0.00%.\n",
      "\n",
      "Query: What is the liabilities growth (%)?\n",
      "Response: The Liabilities Growth for Microsoft in 2023 is 0.00%.\n"
     ]
    }
   ],
   "source": [
    "# Example testing\n",
    "company = \"Microsoft\"\n",
    "year = 2023\n",
    "\n",
    "# Testing sample questions\n",
    "sample_questions = [\n",
    "    \"What is the total revenue?\",\n",
    "    \"What is the Net Income?\",\n",
    "    \"What is the revenue growth (%)?\",\n",
    "    \"What is the liabilities growth (%)?\"\n",
    "]\n",
    "\n",
    "# Loop through questions and get responses\n",
    "for question in sample_questions:\n",
    "    print(f\"\\nQuery: {question}\")\n",
    "    response = financial_chatbot(company, year, question)\n",
    "    print(f\"Response: {response}\")"
   ]
  },
  {
   "cell_type": "markdown",
   "id": "6237caa9-6084-44d4-8b37-87f1cd12ca62",
   "metadata": {},
   "source": [
    "## **5. Conclusion**\n",
    "The prototype chatbot correctly fetches predefined financial metrics based on company and year.  \n",
    "It offers clear, user-friendly responses and demonstrates the potential for further expansion using NLP and machine learning techniques."
   ]
  },
  {
   "cell_type": "code",
   "execution_count": null,
   "id": "9604ac00-b609-4475-9686-8d9b5acd85de",
   "metadata": {},
   "outputs": [],
   "source": []
  }
 ],
 "metadata": {
  "kernelspec": {
   "display_name": "Python 3 (ipykernel)",
   "language": "python",
   "name": "python3"
  },
  "language_info": {
   "codemirror_mode": {
    "name": "ipython",
    "version": 3
   },
   "file_extension": ".py",
   "mimetype": "text/x-python",
   "name": "python",
   "nbconvert_exporter": "python",
   "pygments_lexer": "ipython3",
   "version": "3.11.7"
  }
 },
 "nbformat": 4,
 "nbformat_minor": 5
}
